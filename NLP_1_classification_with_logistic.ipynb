{
  "nbformat": 4,
  "nbformat_minor": 0,
  "metadata": {
    "colab": {
      "name": "NLP_1_classification_with_logistic.ipynb",
      "provenance": [],
      "collapsed_sections": [],
      "toc_visible": true,
      "mount_file_id": "https://github.com/juniorliu95/NLP_practice/blob/main/NLP_1_classification_with_logistic.ipynb",
      "authorship_tag": "ABX9TyPOxXuJEIbStBUZHvJAzBkP",
      "include_colab_link": true
    },
    "kernelspec": {
      "name": "python3",
      "display_name": "Python 3"
    },
    "language_info": {
      "name": "python"
    }
  },
  "cells": [
    {
      "cell_type": "markdown",
      "metadata": {
        "id": "view-in-github",
        "colab_type": "text"
      },
      "source": [
        "<a href=\"https://colab.research.google.com/github/juniorliu95/NLP_practice/blob/main/NLP_1_classification_with_logistic.ipynb\" target=\"_parent\"><img src=\"https://colab.research.google.com/assets/colab-badge.svg\" alt=\"Open In Colab\"/></a>"
      ]
    },
    {
      "cell_type": "markdown",
      "metadata": {
        "id": "39v84Tx5KSRC"
      },
      "source": [
        "# import libraries"
      ]
    },
    {
      "cell_type": "code",
      "metadata": {
        "colab": {
          "base_uri": "https://localhost:8080/"
        },
        "id": "TZVRyzPP-T0p",
        "outputId": "a22c0f7b-e961-4268-a0a2-a141e3cddba7"
      },
      "source": [
        "# import necessary libraries\n",
        "import os\n",
        "import sys\n",
        "import re\n",
        "import numpy as np\n",
        "import pandas as pd\n",
        "\n",
        "import nltk\n",
        "nltk.download('punkt')"
      ],
      "execution_count": 1,
      "outputs": [
        {
          "output_type": "stream",
          "text": [
            "[nltk_data] Downloading package punkt to /root/nltk_data...\n",
            "[nltk_data]   Package punkt is already up-to-date!\n"
          ],
          "name": "stdout"
        },
        {
          "output_type": "execute_result",
          "data": {
            "text/plain": [
              "True"
            ]
          },
          "metadata": {
            "tags": []
          },
          "execution_count": 1
        }
      ]
    },
    {
      "cell_type": "markdown",
      "metadata": {
        "id": "kw1exuOvKAcl"
      },
      "source": [
        "# load dataset"
      ]
    },
    {
      "cell_type": "code",
      "metadata": {
        "id": "iJ6R7HUPKBO1"
      },
      "source": [
        "train_data = pd.read_csv('/content/drive/MyDrive/My_folder/NLP/movie_reviews/train.tsv',sep='\\t')"
      ],
      "execution_count": 2,
      "outputs": []
    },
    {
      "cell_type": "code",
      "metadata": {
        "colab": {
          "base_uri": "https://localhost:8080/",
          "height": 204
        },
        "id": "lYcHYCOuLlTW",
        "outputId": "441b0b29-d94c-4719-8400-5e177c7b67d4"
      },
      "source": [
        "# train_data.describe()\n",
        "train_data.head()"
      ],
      "execution_count": 3,
      "outputs": [
        {
          "output_type": "execute_result",
          "data": {
            "text/html": [
              "<div>\n",
              "<style scoped>\n",
              "    .dataframe tbody tr th:only-of-type {\n",
              "        vertical-align: middle;\n",
              "    }\n",
              "\n",
              "    .dataframe tbody tr th {\n",
              "        vertical-align: top;\n",
              "    }\n",
              "\n",
              "    .dataframe thead th {\n",
              "        text-align: right;\n",
              "    }\n",
              "</style>\n",
              "<table border=\"1\" class=\"dataframe\">\n",
              "  <thead>\n",
              "    <tr style=\"text-align: right;\">\n",
              "      <th></th>\n",
              "      <th>PhraseId</th>\n",
              "      <th>SentenceId</th>\n",
              "      <th>Phrase</th>\n",
              "      <th>Sentiment</th>\n",
              "    </tr>\n",
              "  </thead>\n",
              "  <tbody>\n",
              "    <tr>\n",
              "      <th>0</th>\n",
              "      <td>1</td>\n",
              "      <td>1</td>\n",
              "      <td>A series of escapades demonstrating the adage ...</td>\n",
              "      <td>1</td>\n",
              "    </tr>\n",
              "    <tr>\n",
              "      <th>1</th>\n",
              "      <td>2</td>\n",
              "      <td>1</td>\n",
              "      <td>A series of escapades demonstrating the adage ...</td>\n",
              "      <td>2</td>\n",
              "    </tr>\n",
              "    <tr>\n",
              "      <th>2</th>\n",
              "      <td>3</td>\n",
              "      <td>1</td>\n",
              "      <td>A series</td>\n",
              "      <td>2</td>\n",
              "    </tr>\n",
              "    <tr>\n",
              "      <th>3</th>\n",
              "      <td>4</td>\n",
              "      <td>1</td>\n",
              "      <td>A</td>\n",
              "      <td>2</td>\n",
              "    </tr>\n",
              "    <tr>\n",
              "      <th>4</th>\n",
              "      <td>5</td>\n",
              "      <td>1</td>\n",
              "      <td>series</td>\n",
              "      <td>2</td>\n",
              "    </tr>\n",
              "  </tbody>\n",
              "</table>\n",
              "</div>"
            ],
            "text/plain": [
              "   PhraseId  ...  Sentiment\n",
              "0         1  ...          1\n",
              "1         2  ...          2\n",
              "2         3  ...          2\n",
              "3         4  ...          2\n",
              "4         5  ...          2\n",
              "\n",
              "[5 rows x 4 columns]"
            ]
          },
          "metadata": {
            "tags": []
          },
          "execution_count": 3
        }
      ]
    },
    {
      "cell_type": "markdown",
      "metadata": {
        "id": "dMeEZmbUb-2i"
      },
      "source": [
        "# Tokenization"
      ]
    },
    {
      "cell_type": "code",
      "metadata": {
        "id": "cKte6tYzhu-S"
      },
      "source": [
        "train_all_sentence = list(train_data.Phrase)\n",
        "train_labels = list(train_data.Sentiment.astype(int) - 1)\n",
        "del train_data"
      ],
      "execution_count": 4,
      "outputs": []
    },
    {
      "cell_type": "markdown",
      "metadata": {
        "id": "Tw1aCLbYgy8V"
      },
      "source": [
        "## Bag of words (BOW) model"
      ]
    },
    {
      "cell_type": "markdown",
      "metadata": {
        "id": "vNq8vJqdvUzk"
      },
      "source": [
        "First get the tokens."
      ]
    },
    {
      "cell_type": "code",
      "metadata": {
        "colab": {
          "base_uri": "https://localhost:8080/"
        },
        "id": "KuCnl_S2jdjw",
        "outputId": "def5c9cc-d8aa-49fc-ec06-02425cb02500"
      },
      "source": [
        "from nltk.corpus import stopwords\n",
        "nltk.download('stopwords')\n",
        "stwords = set(stopwords.words('english'))"
      ],
      "execution_count": 5,
      "outputs": [
        {
          "output_type": "stream",
          "text": [
            "[nltk_data] Downloading package stopwords to /root/nltk_data...\n",
            "[nltk_data]   Package stopwords is already up-to-date!\n"
          ],
          "name": "stdout"
        }
      ]
    },
    {
      "cell_type": "code",
      "metadata": {
        "id": "Q03SLUlVqZ3g"
      },
      "source": [
        "def word_extraction(sentence, stopwords):    \n",
        "  ignore = list(stopwords)\n",
        "  # replace the non words with \" \"\n",
        "  sentence = re.sub('[^A-Za-z]', ' ', sentence)\n",
        "  words = nltk.tokenize.word_tokenize(sentence)\n",
        "  # clean the stop words\n",
        "  cleaned_text = [w.lower() for w in words if w not in ignore]\n",
        "  \n",
        "  return cleaned_text"
      ],
      "execution_count": 6,
      "outputs": []
    },
    {
      "cell_type": "code",
      "metadata": {
        "id": "Gm0uIv5MtvsV"
      },
      "source": [
        "def tokenize(sentences, stopwords):    \n",
        "  words = []    \n",
        "  for sentence in sentences:        \n",
        "    w = word_extraction(sentence, stopwords)\n",
        "    words.extend(w)            \n",
        "  words = sorted(list(set(words)))    \n",
        "  return words"
      ],
      "execution_count": 7,
      "outputs": []
    },
    {
      "cell_type": "code",
      "metadata": {
        "id": "OicPrIvrt6pe"
      },
      "source": [
        "tokens = tokenize(train_all_sentence, stwords)"
      ],
      "execution_count": 8,
      "outputs": []
    },
    {
      "cell_type": "markdown",
      "metadata": {
        "id": "33Jl2JLLvaxI"
      },
      "source": [
        "Then get the BOW"
      ]
    },
    {
      "cell_type": "code",
      "metadata": {
        "id": "AhWGkbjxvcOM"
      },
      "source": [
        "def get_bow(tokens, sentence, stopwords):\n",
        "  \"\"\"get the bow for one sentence\"\"\"\n",
        "  vector = np.zeros(len(tokens))\n",
        "  words = word_extraction(sentence, stopwords)\n",
        "  for word in words:\n",
        "    try:\n",
        "      vector[tokens.index(word)] += 1\n",
        "    except:\n",
        "      pass\n",
        "  return vector.astype(int)"
      ],
      "execution_count": 9,
      "outputs": []
    },
    {
      "cell_type": "markdown",
      "metadata": {
        "id": "zn3vH_M5vacu"
      },
      "source": [
        "The program will break at the following block because of RAM usage."
      ]
    },
    {
      "cell_type": "code",
      "metadata": {
        "id": "hgA3znXVbtDu"
      },
      "source": [
        "samples = np.zeros([len(train_all_sentence), len(tokens)]).astype(int)\n",
        "for i in range(len(train_all_sentence)):\n",
        "  sentence = train_all_sentence[i]\n",
        "  bow_vector = get_bow(tokens, sentence, stwords)\n",
        "  samples[i] = bow_vector.astype(int)\n",
        "  print(sys.getsizeof(samples))\n",
        "samples = np.array(samples)"
      ],
      "execution_count": null,
      "outputs": []
    },
    {
      "cell_type": "code",
      "metadata": {
        "id": "JQp1wE5eisu8"
      },
      "source": [
        "# del train_all_sentence, train_labels"
      ],
      "execution_count": null,
      "outputs": []
    },
    {
      "cell_type": "code",
      "metadata": {
        "id": "LfK7l5W2bs6I"
      },
      "source": [
        "# test_data = pd.read_csv('/content/drive/MyDrive/My_folder/NLP/movie_reviews/test.tsv',sep='\\t')"
      ],
      "execution_count": null,
      "outputs": []
    },
    {
      "cell_type": "code",
      "metadata": {
        "id": "FJSlhDp_hPtA"
      },
      "source": [
        "# test_data.describe()\n",
        "# test_data.head()"
      ],
      "execution_count": null,
      "outputs": []
    },
    {
      "cell_type": "markdown",
      "metadata": {
        "id": "N4eg0hREvhhZ"
      },
      "source": [
        "## n-gram model"
      ]
    },
    {
      "cell_type": "code",
      "metadata": {
        "id": "8KENnjKzvppZ"
      },
      "source": [
        ""
      ],
      "execution_count": null,
      "outputs": []
    }
  ]
}